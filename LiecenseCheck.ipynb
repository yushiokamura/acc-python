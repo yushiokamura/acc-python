{
 "cells": [
  {
   "cell_type": "code",
   "execution_count": 1,
   "id": "4b5ab182-5ffd-4a48-b287-1de0caa116fc",
   "metadata": {},
   "outputs": [],
   "source": [
    "import os\n",
    "import sys\n",
    "import pathlib\n",
    "import subprocess"
   ]
  },
  {
   "cell_type": "code",
   "execution_count": 2,
   "id": "7fa1277b-4ce4-4b84-ad61-d35f80a80dd3",
   "metadata": {},
   "outputs": [],
   "source": [
    "reqpath = pathlib.Path(\"./requirements.txt\")"
   ]
  },
  {
   "cell_type": "code",
   "execution_count": 3,
   "id": "e47df7fc-4802-4e2c-b471-0efaf66e6594",
   "metadata": {},
   "outputs": [],
   "source": [
    "with open(reqpath) as f:\n",
    "    packages = f.readlines()"
   ]
  },
  {
   "cell_type": "code",
   "execution_count": 4,
   "id": "5f8c8b18-2faf-4347-86b2-88c0cdfa9d04",
   "metadata": {},
   "outputs": [],
   "source": [
    "licenses = []\n",
    "for p in packages:\n",
    "    pack = p.split(\"==\")[0]\n",
    "    res = subprocess.run(\n",
    "        [\"pip\" , \"show\", pack], \n",
    "        stdout=subprocess.PIPE,\n",
    "        text=True\n",
    "    )\n",
    "    lind = str(res).find(\"License:\")\n",
    "    rind = str(res).find(\"Location:\")\n",
    "    license = str(res)[lind:rind-2]\n",
    "    licenses.append(f\"{pack}  {license}\")"
   ]
  },
  {
   "cell_type": "code",
   "execution_count": 5,
   "id": "6cae05f9-f3f3-4df1-a30b-be14d0237c91",
   "metadata": {},
   "outputs": [
    {
     "name": "stdout",
     "output_type": "stream",
     "text": [
      "anyio  License: MIT\n",
      "appnope  License: BSD\n",
      "argon2-cffi  License: None\n",
      "argon2-cffi-bindings  License: MIT\n",
      "asttokens  License: Apache 2.0\n",
      "attrs  License: MIT\n",
      "Babel  License: BSD\n",
      "backcall  License: UNKNOWN\n",
      "beautifulsoup4  License: MIT\n",
      "bleach  License: Apache Software License\n",
      "certifi  License: MPL-2.0\n",
      "cffi  License: MIT\n",
      "charset-normalizer  License: MIT\n",
      "debugpy  License: MIT\n",
      "decorator  License: new BSD License\n",
      "defusedxml  License: PSFL\n",
      "entrypoints  License: None\n",
      "executing  License: MIT\n",
      "fastjsonschema  License: BSD\n",
      "idna  License: None\n",
      "importlib-metadata  License: None\n",
      "ipykernel  License: # Licensing terms\\n        \\n        This project is licensed under the terms of the Modified BSD License\\n        (also known as New or Revised or 3-Clause BSD), as follows:\\n        \\n        - Copyright (c) 2015, IPython Development Team\\n        \\n        All rights reserved.\\n        \\n        Redistribution and use in source and binary forms, with or without\\n        modification, are permitted provided that the following conditions are met:\\n        \\n        Redistributions of source code must retain the above copyright notice, this\\n        list of conditions and the following disclaimer.\\n        \\n        Redistributions in binary form must reproduce the above copyright notice, this\\n        list of conditions and the following disclaimer in the documentation and/or\\n        other materials provided with the distribution.\\n        \\n        Neither the name of the IPython Development Team nor the names of its\\n        contributors may be used to endorse or promote products derived from this\\n        software without specific prior written permission.\\n        \\n        THIS SOFTWARE IS PROVIDED BY THE COPYRIGHT HOLDERS AND CONTRIBUTORS \"AS IS\" AND\\n        ANY EXPRESS OR IMPLIED WARRANTIES, INCLUDING, BUT NOT LIMITED TO, THE IMPLIED\\n        WARRANTIES OF MERCHANTABILITY AND FITNESS FOR A PARTICULAR PURPOSE ARE\\n        DISCLAIMED. IN NO EVENT SHALL THE COPYRIGHT OWNER OR CONTRIBUTORS BE LIABLE\\n        FOR ANY DIRECT, INDIRECT, INCIDENTAL, SPECIAL, EXEMPLARY, OR CONSEQUENTIAL\\n        DAMAGES (INCLUDING, BUT NOT LIMITED TO, PROCUREMENT OF SUBSTITUTE GOODS OR\\n        SERVICES; LOSS OF USE, DATA, OR PROFITS; OR BUSINESS INTERRUPTION) HOWEVER\\n        CAUSED AND ON ANY THEORY OF LIABILITY, WHETHER IN CONTRACT, STRICT LIABILITY,\\n        OR TORT (INCLUDING NEGLIGENCE OR OTHERWISE) ARISING IN ANY WAY OUT OF THE USE\\n        OF THIS SOFTWARE, EVEN IF ADVISED OF THE POSSIBILITY OF SUCH DAMAGE.\\n        \\n        ## About the IPython Development Team\\n        \\n        The IPython Development Team is the set of all contributors to the IPython project.\\n        This includes all of the IPython subprojects.\\n        \\n        The core team that coordinates development on GitHub can be found here:\\n        https://github.com/ipython/.\\n        \\n        ## Our Copyright Policy\\n        \\n        IPython uses a shared copyright model. Each contributor maintains copyright\\n        over their contributions to IPython. But, it is important to note that these\\n        contributions are typically only changes to the repositories. Thus, the IPython\\n        source code, in its entirety is not the copyright of any single person or\\n        institution. Instead, it is the collective copyright of the entire IPython\\n        Development Team. If individual contributors want to maintain a record of what\\n        changes/contributions they have specific copyright on, they should indicate\\n        their copyright in the commit message of the change, when they commit the\\n        change to one of the IPython repositories.\\n        \\n        With this in mind, the following banner should be used in any source code file\\n        to indicate the copyright and license terms:\\n        \\n        ```\\n        # Copyright (c) IPython Development Team.\\n        # Distributed under the terms of the Modified BSD License.\\n        ```\n",
      "ipython  License: BSD-3-Clause\n",
      "ipython-genutils  License: BSD\n",
      "jedi  License: MIT\n",
      "Jinja2  License: BSD-3-Clause\n",
      "json5  License: Apache\n",
      "jsonschema  License: MIT\n",
      "jupyter-client  License: # Licensing terms\\n        \\n        This project is licensed under the terms of the Modified BSD License\\n        (also known as New or Revised or 3-Clause BSD), as follows:\\n        \\n        - Copyright (c) 2001-2015, IPython Development Team\\n        - Copyright (c) 2015-, Jupyter Development Team\\n        \\n        All rights reserved.\\n        \\n        Redistribution and use in source and binary forms, with or without\\n        modification, are permitted provided that the following conditions are met:\\n        \\n        Redistributions of source code must retain the above copyright notice, this\\n        list of conditions and the following disclaimer.\\n        \\n        Redistributions in binary form must reproduce the above copyright notice, this\\n        list of conditions and the following disclaimer in the documentation and/or\\n        other materials provided with the distribution.\\n        \\n        Neither the name of the Jupyter Development Team nor the names of its\\n        contributors may be used to endorse or promote products derived from this\\n        software without specific prior written permission.\\n        \\n        THIS SOFTWARE IS PROVIDED BY THE COPYRIGHT HOLDERS AND CONTRIBUTORS \"AS IS\" AND\\n        ANY EXPRESS OR IMPLIED WARRANTIES, INCLUDING, BUT NOT LIMITED TO, THE IMPLIED\\n        WARRANTIES OF MERCHANTABILITY AND FITNESS FOR A PARTICULAR PURPOSE ARE\\n        DISCLAIMED. IN NO EVENT SHALL THE COPYRIGHT OWNER OR CONTRIBUTORS BE LIABLE\\n        FOR ANY DIRECT, INDIRECT, INCIDENTAL, SPECIAL, EXEMPLARY, OR CONSEQUENTIAL\\n        DAMAGES (INCLUDING, BUT NOT LIMITED TO, PROCUREMENT OF SUBSTITUTE GOODS OR\\n        SERVICES; LOSS OF USE, DATA, OR PROFITS; OR BUSINESS INTERRUPTION) HOWEVER\\n        CAUSED AND ON ANY THEORY OF LIABILITY, WHETHER IN CONTRACT, STRICT LIABILITY,\\n        OR TORT (INCLUDING NEGLIGENCE OR OTHERWISE) ARISING IN ANY WAY OUT OF THE USE\\n        OF THIS SOFTWARE, EVEN IF ADVISED OF THE POSSIBILITY OF SUCH DAMAGE.\\n        \\n        ## About the Jupyter Development Team\\n        \\n        The Jupyter Development Team is the set of all contributors to the Jupyter project.\\n        This includes all of the Jupyter subprojects.\\n        \\n        The core team that coordinates development on GitHub can be found here:\\n        https://github.com/jupyter/.\\n        \\n        ## Our Copyright Policy\\n        \\n        Jupyter uses a shared copyright model. Each contributor maintains copyright\\n        over their contributions to Jupyter. But, it is important to note that these\\n        contributions are typically only changes to the repositories. Thus, the Jupyter\\n        source code, in its entirety is not the copyright of any single person or\\n        institution. Instead, it is the collective copyright of the entire Jupyter\\n        Development Team. If individual contributors want to maintain a record of what\\n        changes/contributions they have specific copyright on, they should indicate\\n        their copyright in the commit message of the change, when they commit the\\n        change to one of the Jupyter repositories.\\n        \\n        With this in mind, the following banner should be used in any source code file\\n        to indicate the copyright and license terms:\\n        \\n            # Copyright (c) Jupyter Development Team.\\n            # Distributed under the terms of the Modified BSD License.\n",
      "jupyter-core  License: # The Jupyter licensing terms\\n        \\n        Jupyter is licensed under the terms of the Modified BSD License (also known as\\n        New or Revised or 3-Clause BSD), as follows:\\n        \\n        - Copyright (c) 2015-, Jupyter Development Team\\n        \\n        All rights reserved.\\n        \\n        Redistribution and use in source and binary forms, with or without\\n        modification, are permitted provided that the following conditions are met:\\n        \\n        Redistributions of source code must retain the above copyright notice, this\\n        list of conditions and the following disclaimer.\\n        \\n        Redistributions in binary form must reproduce the above copyright notice, this\\n        list of conditions and the following disclaimer in the documentation and/or\\n        other materials provided with the distribution.\\n        \\n        Neither the name of the Jupyter Development Team nor the names of its\\n        contributors may be used to endorse or promote products derived from this\\n        software without specific prior written permission.\\n        \\n        THIS SOFTWARE IS PROVIDED BY THE COPYRIGHT HOLDERS AND CONTRIBUTORS \"AS IS\" AND\\n        ANY EXPRESS OR IMPLIED WARRANTIES, INCLUDING, BUT NOT LIMITED TO, THE IMPLIED\\n        WARRANTIES OF MERCHANTABILITY AND FITNESS FOR A PARTICULAR PURPOSE ARE\\n        DISCLAIMED. IN NO EVENT SHALL THE COPYRIGHT OWNER OR CONTRIBUTORS BE LIABLE\\n        FOR ANY DIRECT, INDIRECT, INCIDENTAL, SPECIAL, EXEMPLARY, OR CONSEQUENTIAL\\n        DAMAGES (INCLUDING, BUT NOT LIMITED TO, PROCUREMENT OF SUBSTITUTE GOODS OR\\n        SERVICES; LOSS OF USE, DATA, OR PROFITS; OR BUSINESS INTERRUPTION) HOWEVER\\n        CAUSED AND ON ANY THEORY OF LIABILITY, WHETHER IN CONTRACT, STRICT LIABILITY,\\n        OR TORT (INCLUDING NEGLIGENCE OR OTHERWISE) ARISING IN ANY WAY OUT OF THE USE\\n        OF THIS SOFTWARE, EVEN IF ADVISED OF THE POSSIBILITY OF SUCH DAMAGE.\\n        \\n        ## About the Jupyter Development Team\\n        \\n        The Jupyter Development Team is the set of all contributors to the Jupyter\\n        project. This includes all of the Jupyter subprojects. A full list with\\n        details is kept in the documentation directory, in the file\\n        `about/credits.txt`.\\n        \\n        The core team that coordinates development on GitHub can be found here:\\n        https://github.com/ipython/.\\n        \\n        ## Our Copyright Policy\\n        \\n        Jupyter uses a shared copyright model. Each contributor maintains copyright\\n        over their contributions to Jupyter. It is important to note that these\\n        contributions are typically only changes to the repositories. Thus, the Jupyter\\n        source code in its entirety is not the copyright of any single person or\\n        institution. Instead, it is the collective copyright of the entire Jupyter\\n        Development Team. If individual contributors want to maintain a record of what\\n        changes/contributions they have specific copyright on, they should indicate\\n        their copyright in the commit message of the change, when they commit the\\n        change to one of the Jupyter repositories.\\n        \\n        With this in mind, the following banner should be used in any source code file\\n        to indicate the copyright and license terms:\\n        \\n            # Copyright (c) Jupyter Development Team.\\n            # Distributed under the terms of the Modified BSD License.\n",
      "jupyter-server  License: None\n",
      "jupyterlab  License: None\n",
      "jupyterlab-pygments  License: BSD\n",
      "jupyterlab-server  License: Copyright (c) 2015-2017, Project Jupyter Contributors\\n        All rights reserved.\\n        \\n        Redistribution and use in source and binary forms, with or without\\n        modification, are permitted provided that the following conditions are met:\\n        \\n        1. Redistributions of source code must retain the above copyright notice, this\\n           list of conditions and the following disclaimer.\\n        \\n        2. Redistributions in binary form must reproduce the above copyright notice,\\n           this list of conditions and the following disclaimer in the documentation\\n           and/or other materials provided with the distribution.\\n        \\n        3. Neither the name of the copyright holder nor the names of its\\n           contributors may be used to endorse or promote products derived from\\n           this software without specific prior written permission.\\n        \\n        THIS SOFTWARE IS PROVIDED BY THE COPYRIGHT HOLDERS AND CONTRIBUTORS \"AS IS\"\\n        AND ANY EXPRESS OR IMPLIED WARRANTIES, INCLUDING, BUT NOT LIMITED TO, THE\\n        IMPLIED WARRANTIES OF MERCHANTABILITY AND FITNESS FOR A PARTICULAR PURPOSE ARE\\n        DISCLAIMED. IN NO EVENT SHALL THE COPYRIGHT HOLDER OR CONTRIBUTORS BE LIABLE\\n        FOR ANY DIRECT, INDIRECT, INCIDENTAL, SPECIAL, EXEMPLARY, OR CONSEQUENTIAL\\n        DAMAGES (INCLUDING, BUT NOT LIMITED TO, PROCUREMENT OF SUBSTITUTE GOODS OR\\n        SERVICES; LOSS OF USE, DATA, OR PROFITS; OR BUSINESS INTERRUPTION) HOWEVER\\n        CAUSED AND ON ANY THEORY OF LIABILITY, WHETHER IN CONTRACT, STRICT LIABILITY,\\n        OR TORT (INCLUDING NEGLIGENCE OR OTHERWISE) ARISING IN ANY WAY OUT OF THE USE\\n        OF THIS SOFTWARE, EVEN IF ADVISED OF THE POSSIBILITY OF SUCH DAMAGE.\n",
      "llvmlite  License: BSD\n",
      "MarkupSafe  License: BSD-3-Clause\n",
      "matplotlib-inline  License: BSD 3-Clause\n",
      "mistune  License: BSD 3-Clause License\n",
      "nbclassic  License: BSD\n",
      "nbclient  License: BSD\n",
      "nbconvert  License: # Licensing terms\\n        \\n        This project is licensed under the terms of the Modified BSD License\\n        (also known as New or Revised or 3-Clause BSD), as follows:\\n        \\n        - Copyright (c) 2001-2015, IPython Development Team\\n        - Copyright (c) 2015-, Jupyter Development Team\\n        \\n        All rights reserved.\\n        \\n        Redistribution and use in source and binary forms, with or without\\n        modification, are permitted provided that the following conditions are met:\\n        \\n        Redistributions of source code must retain the above copyright notice, this\\n        list of conditions and the following disclaimer.\\n        \\n        Redistributions in binary form must reproduce the above copyright notice, this\\n        list of conditions and the following disclaimer in the documentation and/or\\n        other materials provided with the distribution.\\n        \\n        Neither the name of the Jupyter Development Team nor the names of its\\n        contributors may be used to endorse or promote products derived from this\\n        software without specific prior written permission.\\n        \\n        THIS SOFTWARE IS PROVIDED BY THE COPYRIGHT HOLDERS AND CONTRIBUTORS \"AS IS\" AND\\n        ANY EXPRESS OR IMPLIED WARRANTIES, INCLUDING, BUT NOT LIMITED TO, THE IMPLIED\\n        WARRANTIES OF MERCHANTABILITY AND FITNESS FOR A PARTICULAR PURPOSE ARE\\n        DISCLAIMED.  IN NO EVENT SHALL THE COPYRIGHT OWNER OR CONTRIBUTORS BE LIABLE\\n        FOR ANY DIRECT, INDIRECT, INCIDENTAL, SPECIAL, EXEMPLARY, OR CONSEQUENTIAL\\n        DAMAGES (INCLUDING, BUT NOT LIMITED TO, PROCUREMENT OF SUBSTITUTE GOODS OR\\n        SERVICES; LOSS OF USE, DATA, OR PROFITS; OR BUSINESS INTERRUPTION) HOWEVER\\n        CAUSED AND ON ANY THEORY OF LIABILITY, WHETHER IN CONTRACT, STRICT LIABILITY,\\n        OR TORT (INCLUDING NEGLIGENCE OR OTHERWISE) ARISING IN ANY WAY OUT OF THE USE\\n        OF THIS SOFTWARE, EVEN IF ADVISED OF THE POSSIBILITY OF SUCH DAMAGE.\\n        \\n        ## About the Jupyter Development Team\\n        \\n        The Jupyter Development Team is the set of all contributors to the Jupyter project.\\n        This includes all of the Jupyter subprojects.\\n        \\n        The core team that coordinates development on GitHub can be found here:\\n        https://github.com/jupyter/.\\n        \\n        ## Our Copyright Policy\\n        \\n        Jupyter uses a shared copyright model. Each contributor maintains copyright\\n        over their contributions to Jupyter. But, it is important to note that these\\n        contributions are typically only changes to the repositories. Thus, the Jupyter\\n        source code, in its entirety is not the copyright of any single person or\\n        institution.  Instead, it is the collective copyright of the entire Jupyter\\n        Development Team.  If individual contributors want to maintain a record of what\\n        changes/contributions they have specific copyright on, they should indicate\\n        their copyright in the commit message of the change, when they commit the\\n        change to one of the Jupyter repositories.\\n        \\n        With this in mind, the following banner should be used in any source code file\\n        to indicate the copyright and license terms:\\n        \\n            # Copyright (c) Jupyter Development Team.\\n            # Distributed under the terms of the Modified BSD License.\n",
      "nbformat  License: # Licensing terms\\n        \\n        This project is licensed under the terms of the Modified BSD License\\n        (also known as New or Revised or 3-Clause BSD), as follows:\\n        \\n        - Copyright (c) 2001-2015, IPython Development Team\\n        - Copyright (c) 2015-, Jupyter Development Team\\n        \\n        All rights reserved.\\n        \\n        Redistribution and use in source and binary forms, with or without\\n        modification, are permitted provided that the following conditions are met:\\n        \\n        Redistributions of source code must retain the above copyright notice, this\\n        list of conditions and the following disclaimer.\\n        \\n        Redistributions in binary form must reproduce the above copyright notice, this\\n        list of conditions and the following disclaimer in the documentation and/or\\n        other materials provided with the distribution.\\n        \\n        Neither the name of the Jupyter Development Team nor the names of its\\n        contributors may be used to endorse or promote products derived from this\\n        software without specific prior written permission.\\n        \\n        THIS SOFTWARE IS PROVIDED BY THE COPYRIGHT HOLDERS AND CONTRIBUTORS \"AS IS\" AND\\n        ANY EXPRESS OR IMPLIED WARRANTIES, INCLUDING, BUT NOT LIMITED TO, THE IMPLIED\\n        WARRANTIES OF MERCHANTABILITY AND FITNESS FOR A PARTICULAR PURPOSE ARE\\n        DISCLAIMED. IN NO EVENT SHALL THE COPYRIGHT OWNER OR CONTRIBUTORS BE LIABLE\\n        FOR ANY DIRECT, INDIRECT, INCIDENTAL, SPECIAL, EXEMPLARY, OR CONSEQUENTIAL\\n        DAMAGES (INCLUDING, BUT NOT LIMITED TO, PROCUREMENT OF SUBSTITUTE GOODS OR\\n        SERVICES; LOSS OF USE, DATA, OR PROFITS; OR BUSINESS INTERRUPTION) HOWEVER\\n        CAUSED AND ON ANY THEORY OF LIABILITY, WHETHER IN CONTRACT, STRICT LIABILITY,\\n        OR TORT (INCLUDING NEGLIGENCE OR OTHERWISE) ARISING IN ANY WAY OUT OF THE USE\\n        OF THIS SOFTWARE, EVEN IF ADVISED OF THE POSSIBILITY OF SUCH DAMAGE.\\n        \\n        ## About the Jupyter Development Team\\n        \\n        The Jupyter Development Team is the set of all contributors to the Jupyter project.\\n        This includes all of the Jupyter subprojects.\\n        \\n        The core team that coordinates development on GitHub can be found here:\\n        https://github.com/jupyter/.\\n        \\n        ## Our Copyright Policy\\n        \\n        Jupyter uses a shared copyright model. Each contributor maintains copyright\\n        over their contributions to Jupyter. But, it is important to note that these\\n        contributions are typically only changes to the repositories. Thus, the Jupyter\\n        source code, in its entirety is not the copyright of any single person or\\n        institution. Instead, it is the collective copyright of the entire Jupyter\\n        Development Team. If individual contributors want to maintain a record of what\\n        changes/contributions they have specific copyright on, they should indicate\\n        their copyright in the commit message of the change, when they commit the\\n        change to one of the Jupyter repositories.\\n        \\n        With this in mind, the following banner should be used in any source code file\\n        to indicate the copyright and license terms:\\n        \\n            # Copyright (c) Jupyter Development Team.\\n            # Distributed under the terms of the Modified BSD License.\n",
      "nest-asyncio  License: BSD\n",
      "notebook  License: BSD\n",
      "notebook-shim  License: BSD 3-Clause License\\n        \\n        Copyright (c) 2022 Project Jupyter Contributors\\n        All rights reserved.\\n        \\n        Redistribution and use in source and binary forms, with or without\\n        modification, are permitted provided that the following conditions are met:\\n        \\n        1. Redistributions of source code must retain the above copyright notice, this\\n           list of conditions and the following disclaimer.\\n        \\n        2. Redistributions in binary form must reproduce the above copyright notice,\\n           this list of conditions and the following disclaimer in the documentation\\n           and/or other materials provided with the distribution.\\n        \\n        3. Neither the name of the copyright holder nor the names of its\\n           contributors may be used to endorse or promote products derived from\\n           this software without specific prior written permission.\\n        \\n        THIS SOFTWARE IS PROVIDED BY THE COPYRIGHT HOLDERS AND CONTRIBUTORS \"AS IS\"\\n        AND ANY EXPRESS OR IMPLIED WARRANTIES, INCLUDING, BUT NOT LIMITED TO, THE\\n        IMPLIED WARRANTIES OF MERCHANTABILITY AND FITNESS FOR A PARTICULAR PURPOSE ARE\\n        DISCLAIMED. IN NO EVENT SHALL THE COPYRIGHT HOLDER OR CONTRIBUTORS BE LIABLE\\n        FOR ANY DIRECT, INDIRECT, INCIDENTAL, SPECIAL, EXEMPLARY, OR CONSEQUENTIAL\\n        DAMAGES (INCLUDING, BUT NOT LIMITED TO, PROCUREMENT OF SUBSTITUTE GOODS OR\\n        SERVICES; LOSS OF USE, DATA, OR PROFITS; OR BUSINESS INTERRUPTION) HOWEVER\\n        CAUSED AND ON ANY THEORY OF LIABILITY, WHETHER IN CONTRACT, STRICT LIABILITY,\\n        OR TORT (INCLUDING NEGLIGENCE OR OTHERWISE) ARISING IN ANY WAY OUT OF THE USE\\n        OF THIS SOFTWARE, EVEN IF ADVISED OF THE POSSIBILITY OF SUCH DAMAGE.\n",
      "numba  License: BSD\n",
      "numpy  License: BSD\n",
      "packaging  License: BSD-2-Clause or Apache-2.0\n",
      "pandocfilters  License: BSD-3-Clause\n",
      "parso  License: MIT\n",
      "pexpect  License: ISC license\n",
      "pickleshare  License: MIT\n",
      "prometheus-client  License: Apache Software License 2.0\n",
      "prompt-toolkit  License: UNKNOWN\n",
      "psutil  License: BSD-3-Clause\n",
      "ptyprocess  License: UNKNOWN\n",
      "pure-eval  License: MIT\n",
      "pybind11  License: BSD\n",
      "pycparser  License: BSD\n",
      "Pygments  License: BSD License\n",
      "pyparsing  License: None\n",
      "pyrsistent  License: MIT\n",
      "python-dateutil  License: Dual License\n",
      "pytz  License: MIT\n",
      "pyzmq  License: LGPL+BSD\n",
      "requests  License: Apache 2.0\n",
      "Send2Trash  License: BSD License\n",
      "six  License: MIT\n",
      "sniffio  License: MIT OR Apache-2.0\n",
      "soupsieve  License: None\n",
      "stack-data  License: MIT\n",
      "terminado  License: # terminado: A python websocket server backend for xterm.js\\n        #\\n        #  BSD License\\n        #\\n        #  Copyright (c) 2014-, Jupyter development team\\n        #  Copyright (c) 2014, Ramalingam Saravanan <sarava@sarava.net>\\n        #  All rights reserved.\\n        #\\n        #  Redistribution and use in source and binary forms, with or without\\n        #  modification, are permitted provided that the following conditions are met:\\n        #\\n        #  1. Redistributions of source code must retain the above copyright notice, this\\n        #     list of conditions and the following disclaimer.\\n        #  2. Redistributions in binary form must reproduce the above copyright notice,\\n        #     this list of conditions and the following disclaimer in the documentation\\n        #     and/or other materials provided with the distribution.\\n        #\\n        #  THIS SOFTWARE IS PROVIDED BY THE COPYRIGHT HOLDERS AND CONTRIBUTORS \"AS IS\" AND\\n        #  ANY EXPRESS OR IMPLIED WARRANTIES, INCLUDING, BUT NOT LIMITED TO, THE IMPLIED\\n        #  WARRANTIES OF MERCHANTABILITY AND FITNESS FOR A PARTICULAR PURPOSE ARE\\n        #  DISCLAIMED. IN NO EVENT SHALL THE COPYRIGHT OWNER OR CONTRIBUTORS BE LIABLE FOR\\n        #  ANY DIRECT, INDIRECT, INCIDENTAL, SPECIAL, EXEMPLARY, OR CONSEQUENTIAL DAMAGES\\n        #  (INCLUDING, BUT NOT LIMITED TO, PROCUREMENT OF SUBSTITUTE GOODS OR SERVICES;\\n        #  LOSS OF USE, DATA, OR PROFITS; OR BUSINESS INTERRUPTION) HOWEVER CAUSED AND\\n        #  ON ANY THEORY OF LIABILITY, WHETHER IN CONTRACT, STRICT LIABILITY, OR TORT\\n        #  (INCLUDING NEGLIGENCE OR OTHERWISE) ARISING IN ANY WAY OUT OF THE USE OF THIS\\n        #  SOFTWARE, EVEN IF ADVISED OF THE POSSIBILITY OF SUCH DAMAGE.\n",
      "tinycss2  License: None\n",
      "tomli  License: None\n",
      "tornado  License: http://www.apache.org/licenses/LICENSE-2.0\n",
      "traitlets  License: # Licensing terms\\n        \\n        Traitlets is adapted from enthought.traits, Copyright (c) Enthought, Inc.,\\n        under the terms of the Modified BSD License.\\n        \\n        This project is licensed under the terms of the Modified BSD License\\n        (also known as New or Revised or 3-Clause BSD), as follows:\\n        \\n        - Copyright (c) 2001-, IPython Development Team\\n        \\n        All rights reserved.\\n        \\n        Redistribution and use in source and binary forms, with or without\\n        modification, are permitted provided that the following conditions are met:\\n        \\n        Redistributions of source code must retain the above copyright notice, this\\n        list of conditions and the following disclaimer.\\n        \\n        Redistributions in binary form must reproduce the above copyright notice, this\\n        list of conditions and the following disclaimer in the documentation and/or\\n        other materials provided with the distribution.\\n        \\n        Neither the name of the IPython Development Team nor the names of its\\n        contributors may be used to endorse or promote products derived from this\\n        software without specific prior written permission.\\n        \\n        THIS SOFTWARE IS PROVIDED BY THE COPYRIGHT HOLDERS AND CONTRIBUTORS \"AS IS\" AND\\n        ANY EXPRESS OR IMPLIED WARRANTIES, INCLUDING, BUT NOT LIMITED TO, THE IMPLIED\\n        WARRANTIES OF MERCHANTABILITY AND FITNESS FOR A PARTICULAR PURPOSE ARE\\n        DISCLAIMED. IN NO EVENT SHALL THE COPYRIGHT OWNER OR CONTRIBUTORS BE LIABLE\\n        FOR ANY DIRECT, INDIRECT, INCIDENTAL, SPECIAL, EXEMPLARY, OR CONSEQUENTIAL\\n        DAMAGES (INCLUDING, BUT NOT LIMITED TO, PROCUREMENT OF SUBSTITUTE GOODS OR\\n        SERVICES; LOSS OF USE, DATA, OR PROFITS; OR BUSINESS INTERRUPTION) HOWEVER\\n        CAUSED AND ON ANY THEORY OF LIABILITY, WHETHER IN CONTRACT, STRICT LIABILITY,\\n        OR TORT (INCLUDING NEGLIGENCE OR OTHERWISE) ARISING IN ANY WAY OUT OF THE USE\\n        OF THIS SOFTWARE, EVEN IF ADVISED OF THE POSSIBILITY OF SUCH DAMAGE.\\n        \\n        ## About the IPython Development Team\\n        \\n        The IPython Development Team is the set of all contributors to the IPython project.\\n        This includes all of the IPython subprojects.\\n        \\n        The core team that coordinates development on GitHub can be found here:\\n        https://github.com/jupyter/.\\n        \\n        ## Our Copyright Policy\\n        \\n        IPython uses a shared copyright model. Each contributor maintains copyright\\n        over their contributions to IPython. But, it is important to note that these\\n        contributions are typically only changes to the repositories. Thus, the IPython\\n        source code, in its entirety is not the copyright of any single person or\\n        institution. Instead, it is the collective copyright of the entire IPython\\n        Development Team. If individual contributors want to maintain a record of what\\n        changes/contributions they have specific copyright on, they should indicate\\n        their copyright in the commit message of the change, when they commit the\\n        change to one of the IPython repositories.\\n        \\n        With this in mind, the following banner should be used in any source code file\\n        to indicate the copyright and license terms:\\n        \\n        ```\\n        # Copyright (c) IPython Development Team.\\n        # Distributed under the terms of the Modified BSD License.\\n        ```\n",
      "urllib3  License: MIT\n",
      "wcwidth  License: MIT\n",
      "webencodings  License: BSD\n",
      "websocket-client  License: Apache-2.0\n",
      "zipp  License: None\n"
     ]
    }
   ],
   "source": [
    "for license in licenses:\n",
    "    print(license)"
   ]
  },
  {
   "cell_type": "code",
   "execution_count": null,
   "id": "9d33d480-f947-48e9-9346-6fbce5fd86de",
   "metadata": {},
   "outputs": [],
   "source": []
  },
  {
   "cell_type": "code",
   "execution_count": null,
   "id": "657f3538-4bd8-4034-ad12-0c0ac93fb1ab",
   "metadata": {},
   "outputs": [],
   "source": []
  }
 ],
 "metadata": {
  "kernelspec": {
   "display_name": "Python 3 (ipykernel)",
   "language": "python",
   "name": "python3"
  },
  "language_info": {
   "codemirror_mode": {
    "name": "ipython",
    "version": 3
   },
   "file_extension": ".py",
   "mimetype": "text/x-python",
   "name": "python",
   "nbconvert_exporter": "python",
   "pygments_lexer": "ipython3",
   "version": "3.9.5"
  }
 },
 "nbformat": 4,
 "nbformat_minor": 5
}
